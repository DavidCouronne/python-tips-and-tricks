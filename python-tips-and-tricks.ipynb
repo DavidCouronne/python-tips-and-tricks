{
 "cells": [
  {
   "cell_type": "markdown",
   "metadata": {
    "slideshow": {
     "slide_type": "slide"
    }
   },
   "source": [
    "# Python tips and tricks\n",
    "* Python is a powerful language\n",
    "* Provides support for many different programming paradigms\n",
    "* Has an extremely full-featured standard library\n",
    "* No need to reinvent the wheel\n",
    "    * Especially when existing wheels are very wheely\n",
    "\n",
    "<div style=\"float: left; width: 400px; font-size: 20px; text-align: center;\" class=\"fragment\">Python standard library wheel<img src=\"https://s-media-cache-ak0.pinimg.com/736x/bc/7a/b8/bc7ab89344508fbd96ce39751ead8bf6.jpg\"></div>\n",
    "<div style=\"margin-left: 40px; float: left; width: 400px; font-size: 20px; text-align: center;\" class=\"fragment\">Your wheel<img src=\"http://i296.photobucket.com/albums/mm192/blk88/Beadlocks/Lateral%20test%202_zps6dd770e7.jpg\" width=\"400px\" style=\"float: right;\"></div>"
   ]
  },
  {
   "cell_type": "markdown",
   "metadata": {
    "slideshow": {
     "slide_type": "slide"
    }
   },
   "source": [
    "# Knowing a language well is a quick path to programming competence\n",
    "* One boring `import` statement can can save you hours of algorithmic brilliance\n",
    "* E.g., regular expressions vs. the `string` module\n",
    "    * Find all occurrences of the three uppercase letters immediately following \"subject\"--but only if they're not followed by additional numbers\n",
    "    * You can be a master of string parsing, or you can learn some regex basics"
   ]
  },
  {
   "cell_type": "code",
   "execution_count": null,
   "metadata": {
    "collapsed": false,
    "slideshow": {
     "slide_type": "slide"
    }
   },
   "outputs": [],
   "source": [
    "target = \"Exp: 20344@L234342; begin{subjects}:AAA001--NaN//YYY843828--75%//GNEFE82--82%//BOO444--45%\"\n",
    "\n",
    "# Painful and unreliable approach that uses no imports.\n",
    "# Note that we're cheating by using additional information that's\n",
    "# in this particular string but may not generalize to others.\n",
    "sub_part = target.split(':')[2]\n",
    "subs = sub_part.split('//')\n",
    "keep = []\n",
    "for s in subs:\n",
    "    s = s.split('--')[0]\n",
    "    if len(s) >= 6 and s[:3].isalpha() and s[3:6].isdigit():\n",
    "        if len(s) > 6 and s[7].isdigit():\n",
    "            continue\n",
    "        keep.append(s[3:6])\n",
    "\n",
    "print(keep)"
   ]
  },
  {
   "cell_type": "code",
   "execution_count": null,
   "metadata": {
    "collapsed": false,
    "slideshow": {
     "slide_type": "slide"
    }
   },
   "outputs": [],
   "source": [
    "# The correct approach--use regular expressions!\n",
    "import re\n",
    "print(re.findall('[A-Z]{3}(\\d{3})[^\\d]*', target))"
   ]
  },
  {
   "cell_type": "markdown",
   "metadata": {
    "slideshow": {
     "slide_type": "slide"
    }
   },
   "source": [
    "# The language-learning Catch-22\n",
    "* You often don't know there's a better way to do something until you already know the better way to do something\n",
    "* E.g., how many people actively go looking for \"some kind of thing that 'decorates' functions\"?"
   ]
  },
  {
   "cell_type": "markdown",
   "metadata": {
    "slideshow": {
     "slide_type": "slide"
    }
   },
   "source": [
    "# What helps\n",
    "* Write a lot of code\n",
    "* Reading other people's code\n",
    "* Read programming books, blogs, etc.\n",
    "* Having other people force their tips and tricks on you"
   ]
  },
  {
   "cell_type": "markdown",
   "metadata": {
    "slideshow": {
     "slide_type": "slide"
    }
   },
   "source": [
    "# The gameplan\n",
    "* We'll start with basic tips and build up to more complex examples\n",
    "* Many of these tips can save you huge amounts of time in the long run\n",
    "* But brevity and power sometimes come at the cost of some clarity\n",
    "    * When in doubt, err on the side of clarity"
   ]
  },
  {
   "cell_type": "markdown",
   "metadata": {
    "slideshow": {
     "slide_type": "slide"
    }
   },
   "source": [
    "# String tricks"
   ]
  },
  {
   "cell_type": "markdown",
   "metadata": {
    "slideshow": {
     "slide_type": "fragment"
    }
   },
   "source": [
    "## Formatting"
   ]
  },
  {
   "cell_type": "code",
   "execution_count": null,
   "metadata": {
    "collapsed": false,
    "slideshow": {
     "slide_type": "fragment"
    }
   },
   "outputs": [],
   "source": [
    "# The most obvious (and least efficient) way to generate strings: concatenation\n",
    "name = \"Tal Yarkoni\"\n",
    "dob = \"10/13/1980\"\n",
    "fingers = 20\n",
    "social = 8502891742\n",
    "\n",
    "print(\"My name is \" + name + \". My date of birth is \" + dob + \". My social security number is \" + \\\n",
    "        str(social) + \", and I have \" + str(fingers) + \" fingers and toes.\")"
   ]
  },
  {
   "cell_type": "code",
   "execution_count": null,
   "metadata": {
    "collapsed": false,
    "slideshow": {
     "slide_type": "slide"
    }
   },
   "outputs": [],
   "source": [
    "# Old-style formatting (but still supported!)\n",
    "print(\"My name is %s. My date of birth is %s. My social security number is %d, and I have %.2f fingers and toes.\" % \n",
    "      (name, dob, social, fingers))"
   ]
  },
  {
   "cell_type": "code",
   "execution_count": null,
   "metadata": {
    "collapsed": false,
    "slideshow": {
     "slide_type": "fragment"
    }
   },
   "outputs": [],
   "source": [
    "# Arguments can be injected later, allowing us to create templates\n",
    "template = '<div style=\"font-size: 24px; padding: 20px; color: blue;\">The %s showed %s activation in the %s condition.</div>'\n",
    "\n",
    "from IPython.display import display, HTML\n",
    "html = HTML(template % ('left IFG', 'increased', 'vocalization'))\n",
    "display(html)"
   ]
  },
  {
   "cell_type": "code",
   "execution_count": null,
   "metadata": {
    "collapsed": false,
    "slideshow": {
     "slide_type": "slide"
    }
   },
   "outputs": [],
   "source": [
    "# New-style formatting\n",
    "sentence = \"The {} {} {animal1} jumped over the {} {animal2} in {:.2f} seconds.\"\n",
    "\n",
    "sentence.format('quick', 'brown', 'lazy', 0.7284743, animal1='fox', animal2='dog')"
   ]
  },
  {
   "cell_type": "markdown",
   "metadata": {
    "slideshow": {
     "slide_type": "slide"
    }
   },
   "source": [
    "## Regular expressions"
   ]
  },
  {
   "cell_type": "code",
   "execution_count": null,
   "metadata": {
    "collapsed": false,
    "slideshow": {
     "slide_type": "fragment"
    }
   },
   "outputs": [],
   "source": [
    "# Some very simple regular expressions\n",
    "import re\n",
    "\n",
    "marketing_lies = \"Four out of 5 doctors recommend using regular expressions at least three times a day.\"\n",
    "print(re.search('(\\d+)', marketing_lies).groups())\n",
    "\n",
    "# All words between 5 and 8 characters in length\n",
    "print(re.findall(r'\\b(\\w{6,8})\\b', marketing_lies))"
   ]
  },
  {
   "cell_type": "code",
   "execution_count": null,
   "metadata": {
    "collapsed": false,
    "slideshow": {
     "slide_type": "slide"
    }
   },
   "outputs": [],
   "source": [
    "# Email validator\n",
    "patt = re.compile('^.+\\\\@(\\\\[?)[a-zA-Z0-9\\\\-\\\\.]+\\\\.([a-zA-Z]{2,3}|[0-9]{1,3})(\\\\]?)$')\n",
    "\n",
    "addresses = [\n",
    "    \"this.isn't.a.valid.email@ddress\",\n",
    "    \"look_i_have_the_longest_email_address_ever@hotmail.com\",\n",
    "    \"bob@bob.com\",\n",
    "    \"this@fails.com!\"\n",
    "]\n",
    "\n",
    "for a in addresses:\n",
    "    result = \"VALID\" if patt.match(a) else \"INVALID\"\n",
    "    print(\"%s: %s\" % (result, a))"
   ]
  },
  {
   "cell_type": "markdown",
   "metadata": {
    "slideshow": {
     "slide_type": "slide"
    }
   },
   "source": [
    "# Iterable tricks"
   ]
  },
  {
   "cell_type": "markdown",
   "metadata": {
    "slideshow": {
     "slide_type": "fragment"
    }
   },
   "source": [
    "#### List comprehensions"
   ]
  },
  {
   "cell_type": "code",
   "execution_count": null,
   "metadata": {
    "collapsed": false,
    "slideshow": {
     "slide_type": "fragment"
    }
   },
   "outputs": [],
   "source": [
    "# List comprehensions\n",
    "subjects = [1, 2, 3, 4, 5, 6, 7, 8, 9, 10]\n",
    "subjects = [100 + s for s in subjects]\n",
    "print(subjects)"
   ]
  },
  {
   "cell_type": "code",
   "execution_count": null,
   "metadata": {
    "collapsed": false,
    "slideshow": {
     "slide_type": "fragment"
    }
   },
   "outputs": [],
   "source": [
    "# The explicit for-loop version\n",
    "subjects = [1, 2, 3, 4, 5, 6, 7, 8, 9, 10]\n",
    "result = []\n",
    "for s in subjects:\n",
    "    result.append(s + 100)\n",
    "subjects = result\n",
    "print(subjects)"
   ]
  },
  {
   "cell_type": "code",
   "execution_count": null,
   "metadata": {
    "collapsed": false,
    "slideshow": {
     "slide_type": "fragment"
    }
   },
   "outputs": [],
   "source": [
    "# Conditionals can be used to filter lists\n",
    "subjects = [s for s in subjects if s > 105]\n",
    "print(subjects)"
   ]
  },
  {
   "cell_type": "markdown",
   "metadata": {
    "slideshow": {
     "slide_type": "slide"
    }
   },
   "source": [
    "#### Nested list comprehensions"
   ]
  },
  {
   "cell_type": "code",
   "execution_count": null,
   "metadata": {
    "collapsed": false,
    "slideshow": {
     "slide_type": "fragment"
    }
   },
   "outputs": [],
   "source": [
    "# Use these sparingly!\n",
    "fruit = ['apple', 'banana', 'canteloupe']\n",
    "animals = ['aardvark', 'bonobo', 'cheetah']\n",
    "['%s_%s' % (f, a) for f in fruit for a in animals]"
   ]
  },
  {
   "cell_type": "markdown",
   "metadata": {
    "slideshow": {
     "slide_type": "slide"
    }
   },
   "source": [
    "#### Dictionary comprehensions"
   ]
  },
  {
   "cell_type": "code",
   "execution_count": null,
   "metadata": {
    "collapsed": false,
    "slideshow": {
     "slide_type": "fragment"
    }
   },
   "outputs": [],
   "source": [
    "# Dictionary comprehensions\n",
    "my_dict = { 'a': 1, 'b': 5, 'c': 7, 'd': 'orangutan' }\n",
    "my_reversed_dict = { str(v): k for k, v in my_dict.items()}\n",
    "my_reversed_dict"
   ]
  },
  {
   "cell_type": "markdown",
   "metadata": {
    "slideshow": {
     "slide_type": "slide"
    }
   },
   "source": [
    "#### zip"
   ]
  },
  {
   "cell_type": "code",
   "execution_count": null,
   "metadata": {
    "collapsed": false,
    "slideshow": {
     "slide_type": "fragment"
    }
   },
   "outputs": [],
   "source": [
    "# Zip--aggregate elements from iterables.\n",
    "# Kind of like switching the grouping dimension from\n",
    "# rows to columns or vice versa in a table.\n",
    "fruit = ['apple', 'banana', 'canteloupe']\n",
    "animals = ['aardvark', 'bonobo', 'cheetah']\n",
    "list(zip(fruit, animals))"
   ]
  },
  {
   "cell_type": "markdown",
   "metadata": {
    "slideshow": {
     "slide_type": "slide"
    }
   },
   "source": [
    "# Assignment tricks"
   ]
  },
  {
   "cell_type": "code",
   "execution_count": null,
   "metadata": {
    "collapsed": false,
    "slideshow": {
     "slide_type": "fragment"
    }
   },
   "outputs": [],
   "source": [
    "# Multiple assignment\n",
    "a, b, c = 3, 5, 7"
   ]
  },
  {
   "cell_type": "code",
   "execution_count": null,
   "metadata": {
    "collapsed": false,
    "slideshow": {
     "slide_type": "fragment"
    }
   },
   "outputs": [],
   "source": [
    "# Variable swapping\n",
    "a, b = b, a\n",
    "print(\"a: %d, b: %d, c: %d\" % (a, b, c))"
   ]
  },
  {
   "cell_type": "code",
   "execution_count": null,
   "metadata": {
    "collapsed": false,
    "slideshow": {
     "slide_type": "fragment"
    }
   },
   "outputs": [],
   "source": [
    "# Iterable unpacking--assign each element of an iterable\n",
    "# to a different variable.\n",
    "regions = ['pfc', 'ifg', 'sts']\n",
    "r1, r2, r3 = regions"
   ]
  },
  {
   "cell_type": "code",
   "execution_count": null,
   "metadata": {
    "collapsed": false,
    "slideshow": {
     "slide_type": "fragment"
    }
   },
   "outputs": [],
   "source": [
    "# Advanced unpacking (only works in Python 3!)\n",
    "regions = ['pfc', 'ifg', 'sts', 'atl', 'acc']\n",
    "first, *rest, last = regions\n",
    "rest"
   ]
  },
  {
   "cell_type": "code",
   "execution_count": null,
   "metadata": {
    "collapsed": false,
    "slideshow": {
     "slide_type": "slide"
    }
   },
   "outputs": [],
   "source": [
    "# Conditional assignment\n",
    "\n",
    "class Shape(object):\n",
    "    def __init__(self, sides=None):\n",
    "        self.sides = sides\n",
    "\n",
    "    def count(self):\n",
    "        print(shape.sides if shape.sides <= 20 else 'too many sides to count!')\n",
    "\n",
    "shape = Shape(22)\n",
    "shape.count()"
   ]
  },
  {
   "cell_type": "markdown",
   "metadata": {
    "slideshow": {
     "slide_type": "slide"
    }
   },
   "source": [
    "# Function tricks"
   ]
  },
  {
   "cell_type": "markdown",
   "metadata": {
    "slideshow": {
     "slide_type": "fragment"
    }
   },
   "source": [
    "#### Lambda functions"
   ]
  },
  {
   "cell_type": "code",
   "execution_count": null,
   "metadata": {
    "collapsed": false,
    "slideshow": {
     "slide_type": "fragment"
    }
   },
   "outputs": [],
   "source": [
    "# Essentially just an anonymous one-line\n",
    "# method that saves us some typing.\n",
    "data = [(3, 4), (1, 2), (0, 1), (2, 7), (3, 3)]\n",
    "list(filter(lambda x: sum(x) > 5, data))"
   ]
  },
  {
   "cell_type": "code",
   "execution_count": null,
   "metadata": {
    "collapsed": false,
    "slideshow": {
     "slide_type": "fragment"
    }
   },
   "outputs": [],
   "source": [
    "# Equivalent to...\n",
    "def sums_to_more_than_five(x):\n",
    "    return sum(x) > 5\n",
    "\n",
    "list(filter(sums_to_more_than_five, data))"
   ]
  },
  {
   "cell_type": "markdown",
   "metadata": {
    "slideshow": {
     "slide_type": "slide"
    }
   },
   "source": [
    "#### Conditional function calls"
   ]
  },
  {
   "cell_type": "code",
   "execution_count": null,
   "metadata": {
    "collapsed": false,
    "slideshow": {
     "slide_type": "fragment"
    }
   },
   "outputs": [],
   "source": [
    "# Works just like conditional assignment\n",
    "def say_hmm(): print(\"Hmm.\")\n",
    "def say_oh(): print(\"Oh.\")\n",
    "\n",
    "cnc = True\n",
    "say_hmm() if cnc else say_oh()"
   ]
  },
  {
   "cell_type": "markdown",
   "metadata": {
    "slideshow": {
     "slide_type": "slide"
    }
   },
   "source": [
    "#### Unpacking optional positional and keyword arguments"
   ]
  },
  {
   "cell_type": "code",
   "execution_count": null,
   "metadata": {
    "collapsed": false,
    "slideshow": {
     "slide_type": "fragment"
    }
   },
   "outputs": [],
   "source": [
    "def my_amazing_function(a, b, *args, **kwargs):\n",
    "    \"\"\"\n",
    "    A function that sums the first two mandatory arguments,\n",
    "    plus any other positional arguments, plus the value of\n",
    "    an optional 'add' keyword argument if it exists.\n",
    "    \"\"\"\n",
    "    total = a + b\n",
    "    for a in args:\n",
    "        total += a\n",
    "    total += kwargs.get('add', 0)\n",
    "    return total\n",
    "\n",
    "# This first example will fail--fix it!\n",
    "print(my_amazing_function(4))\n",
    "\n",
    "# Pass two optional positional args\n",
    "print(my_amazing_function(4, 3, 3, 7))\n",
    "\n",
    "# Pass one positional arg and one keyword arg that's ignored\n",
    "print(my_amazing_function(4, 3, 3, meow=5))\n",
    "\n",
    "# Add a keyword arg that we're on the look-out for\n",
    "print(my_amazing_function(4, 3, 3, meow=5, add=10))"
   ]
  },
  {
   "cell_type": "markdown",
   "metadata": {
    "slideshow": {
     "slide_type": "slide"
    }
   },
   "source": [
    "#### Partial functions"
   ]
  },
  {
   "cell_type": "code",
   "execution_count": null,
   "metadata": {
    "collapsed": false,
    "slideshow": {
     "slide_type": "fragment"
    }
   },
   "outputs": [],
   "source": [
    "# Partial functions allow us to create a function that pre-fills\n",
    "# in some of the arguments of another function.\n",
    "\n",
    "from functools import partial\n",
    "\n",
    "def character(name, trait, likes):\n",
    "    return(\"%s is %s and enjoys %s.\" % (name, trait, likes))\n",
    "\n",
    "print(character('Joe', 'lazy', 'ice cream'))\n",
    "\n",
    "conniver = partial(character, trait='conniving')\n",
    "\n",
    "print(conniver('Sue', likes='suffering'))"
   ]
  },
  {
   "cell_type": "markdown",
   "metadata": {
    "slideshow": {
     "slide_type": "slide"
    }
   },
   "source": [
    "# The Python standard library\n",
    "* Contains all kinds of [good stuff](https://docs.python.org/3/library/). For example:\n",
    "    * os: operating system tools\n",
    "    * re: regular expressions\n",
    "    * collections: useful data structures\n",
    "    * multiprocessing: simple parallelization tools\n",
    "    * pickle: serialization\n",
    "    * json: reading and writing JSON\n",
    "    * argparse: command-line argument parsing\n",
    "    * functools: functional programming tools\n",
    "    * datetime: date and time functions\n",
    "    * etc. etc. etc."
   ]
  },
  {
   "cell_type": "markdown",
   "metadata": {
    "slideshow": {
     "slide_type": "slide"
    }
   },
   "source": [
    "## collections\n",
    "* Useful container data types\n",
    "* Often just as efficient as standard containers like dicts, tuples"
   ]
  },
  {
   "cell_type": "markdown",
   "metadata": {
    "slideshow": {
     "slide_type": "slide"
    }
   },
   "source": [
    "#### default dictionaries"
   ]
  },
  {
   "cell_type": "code",
   "execution_count": null,
   "metadata": {
    "collapsed": false,
    "slideshow": {
     "slide_type": "fragment"
    }
   },
   "outputs": [],
   "source": [
    "# Normal dicts require you to initialize the values of new keys.\n",
    "# This is annoying.\n",
    "\n",
    "trees = ['oak', 'oak', 'elm', 'pine', 'oak', 'pine', 'elm']\n",
    "tree_counts = {}\n",
    "for t in trees:\n",
    "    if t not in tree_counts:\n",
    "        tree_counts[t] = 0\n",
    "    tree_counts[t] += 1\n",
    "\n",
    "tree_counts"
   ]
  },
  {
   "cell_type": "code",
   "execution_count": null,
   "metadata": {
    "collapsed": false,
    "slideshow": {
     "slide_type": "slide"
    }
   },
   "outputs": [],
   "source": [
    "# The defaultdict container allows you to set a default type\n",
    "# for missing keys.\n",
    "\n",
    "from collections import defaultdict\n",
    "\n",
    "tree_counts = defaultdict(int)\n",
    "\n",
    "for t in trees:\n",
    "    tree_counts[t] += 1\n",
    "\n",
    "tree_counts"
   ]
  },
  {
   "cell_type": "markdown",
   "metadata": {
    "slideshow": {
     "slide_type": "slide"
    }
   },
   "source": [
    "#### ordered dictionaries"
   ]
  },
  {
   "cell_type": "code",
   "execution_count": null,
   "metadata": {
    "collapsed": false,
    "slideshow": {
     "slide_type": "fragment"
    }
   },
   "outputs": [],
   "source": [
    "# Ordered dictionaries\n",
    "from collections import OrderedDict\n",
    "\n",
    "od = OrderedDict()\n",
    "od['first'] = 14\n",
    "od['second'] = 7\n",
    "od['third'] = 8\n",
    "\n",
    "d = dict()\n",
    "d['first'] = 14\n",
    "d['second'] = 7\n",
    "d['third'] = 8\n",
    "\n",
    "print(\"Ordered dictionary:\", od.keys())\n",
    "print(\"Normal dictionary:\", d.keys())"
   ]
  },
  {
   "cell_type": "markdown",
   "metadata": {
    "slideshow": {
     "slide_type": "slide"
    }
   },
   "source": [
    "#### named tuples"
   ]
  },
  {
   "cell_type": "code",
   "execution_count": null,
   "metadata": {
    "collapsed": false,
    "slideshow": {
     "slide_type": "fragment"
    }
   },
   "outputs": [],
   "source": [
    "# namedtuple--allows element access via attribute name\n",
    "\n",
    "from collections import namedtuple\n",
    "\n",
    "Study = namedtuple('Study', ['name', 'authors', 'status'])\n",
    "\n",
    "my_study = Study(name=\"best. experiment. ever.\", authors=\"Me, Myself, & I\", status=\"abandoned\")\n",
    "\n",
    "print(my_study.authors)\n",
    "print(my_study[1])"
   ]
  },
  {
   "cell_type": "markdown",
   "metadata": {
    "slideshow": {
     "slide_type": "slide"
    }
   },
   "source": [
    "# Object-oriented programming tricks"
   ]
  },
  {
   "cell_type": "markdown",
   "metadata": {
    "slideshow": {
     "slide_type": "fragment"
    }
   },
   "source": [
    "#### Dynamic attribute access"
   ]
  },
  {
   "cell_type": "code",
   "execution_count": null,
   "metadata": {
    "collapsed": false,
    "slideshow": {
     "slide_type": "fragment"
    }
   },
   "outputs": [],
   "source": [
    "# A lovely Image class that does absolutely nothing\n",
    "class Image(object): pass\n",
    "\n",
    "# We can set any attributes we like\n",
    "img = Image()\n",
    "img.shape = (91, 109, 91)\n",
    "print(img.shape)"
   ]
  },
  {
   "cell_type": "code",
   "execution_count": null,
   "metadata": {
    "collapsed": false,
    "slideshow": {
     "slide_type": "fragment"
    }
   },
   "outputs": [],
   "source": [
    "# Create an Image instance\n",
    "img = Image()\n",
    "\n",
    "# Set the attribute with setattr\n",
    "setattr(img, 'shape', (91, 109, 91))\n",
    "\n",
    "# Two ways of accessing the attribute\n",
    "print(img.shape)\n",
    "print(getattr(img, 'shape'))"
   ]
  },
  {
   "cell_type": "markdown",
   "metadata": {
    "slideshow": {
     "slide_type": "slide"
    }
   },
   "source": [
    "Why would you ever want to use `setattr` and `getattr`? It's just more typing!"
   ]
  },
  {
   "cell_type": "code",
   "execution_count": null,
   "metadata": {
    "collapsed": true,
    "slideshow": {
     "slide_type": "fragment"
    }
   },
   "outputs": [],
   "source": [
    "class Person(object):\n",
    "    ''' No shoes, no shirt, no hat, no service! '''\n",
    "    def __init__(self, shoes, shirt, hat):\n",
    "        self.shoes = shoes\n",
    "        self.shirt = shirt\n",
    "        self.hat = hat\n",
    "\n",
    "    def get_clothing_item_brand(self, item):\n",
    "        ''' Return the brand of the specified clothing item. '''\n",
    "        return getattr(self, item)"
   ]
  },
  {
   "cell_type": "code",
   "execution_count": null,
   "metadata": {
    "collapsed": false,
    "slideshow": {
     "slide_type": "fragment"
    }
   },
   "outputs": [],
   "source": [
    "bob = Person('Teva', 'Hermes', 'Dunlop')\n",
    "\n",
    "# Now we can pass in the type of clothing item as a string\n",
    "bob.get_clothing_item_brand('shoes')"
   ]
  },
  {
   "cell_type": "markdown",
   "metadata": {
    "slideshow": {
     "slide_type": "slide"
    }
   },
   "source": [
    "## Magic methods\n",
    "* Special methods that change the way Python objects behave\n",
    "* Always start and end with double underscores (e.g., `__init__`)\n",
    "* Lets you perform... well, magic"
   ]
  },
  {
   "cell_type": "code",
   "execution_count": null,
   "metadata": {
    "collapsed": false,
    "slideshow": {
     "slide_type": "slide"
    }
   },
   "outputs": [],
   "source": [
    "class Brain(object):\n",
    "    \n",
    "    def __init__(self, owner, age, status):\n",
    "        self.owner = owner\n",
    "        self.age = age\n",
    "        self.status = status\n",
    "    \n",
    "    def __repr__(self):\n",
    "        args = (self.age, self.owner, self.status)\n",
    "        return \"One nondescript gray human brain. Approximately %s years old. Used to be owned by %s. Currently %s.\" % args\n",
    "\n",
    "\n",
    "class BrainCollection(object):\n",
    "    \n",
    "    def __init__(self, brains):\n",
    "        self.brains = { b.owner: b for b in brains }\n",
    "    \n",
    "    def __iter__(self):\n",
    "        for b in self.brains.values():\n",
    "            yield b\n",
    "    \n",
    "    def __getitem__(self, key):\n",
    "        return self.brains[key]\n",
    "\n",
    "    def __setitem__(self, key, val):\n",
    "        self.brains[key] = val\n",
    "    \n",
    "    def __getattr__(self, key):\n",
    "        # Note: this would be a *REALLY* bad thing to do in real code\n",
    "        if key.startswith('get_'):\n",
    "            name = key.split('_')[1]\n",
    "            if name in self.brains:\n",
    "                return lambda: self.brains[name]\n",
    "        raise AttributeError"
   ]
  },
  {
   "cell_type": "code",
   "execution_count": null,
   "metadata": {
    "collapsed": false,
    "slideshow": {
     "slide_type": "slide"
    }
   },
   "outputs": [],
   "source": [
    "# Create a list containing three brains\n",
    "brains = [\n",
    "    Brain('Bob', 60, 'hanging out in a jar'),\n",
    "    Brain('Jane', 28, 'broken'),\n",
    "    Brain('Ramesh', 15, 'missing')\n",
    "]\n",
    "\n",
    "# Initialize our BrainCollection\n",
    "collection = BrainCollection(brains)\n",
    "\n",
    "# Now we can take advantage of our magic methods...\n",
    "\n",
    "# 1. This behavior is defined in __iter__ and __repr__\n",
    "for brain in collection:\n",
    "    print(brain)\n",
    "\n",
    "# 2. This relies on __setitem__\n",
    "collection['Sue'] = Brain('Sue', 40, 'napping')\n",
    "\n",
    "# 3. This ungodly creation (ab)uses __getattr__\n",
    "collection.get_Sue()"
   ]
  },
  {
   "cell_type": "markdown",
   "metadata": {
    "slideshow": {
     "slide_type": "slide"
    }
   },
   "source": [
    "## Operator overloading\n",
    "* More magics!\n",
    "* We can overload common operators like *, +, -, /, etc.\n",
    "* Enables extremely powerful and compact operations "
   ]
  },
  {
   "cell_type": "markdown",
   "metadata": {
    "slideshow": {
     "slide_type": "slide"
    }
   },
   "source": [
    "### Image conjunction the lazy way"
   ]
  },
  {
   "cell_type": "code",
   "execution_count": null,
   "metadata": {
    "collapsed": false,
    "slideshow": {
     "slide_type": "fragment"
    }
   },
   "outputs": [],
   "source": [
    "from nibabel import Nifti1Image\n",
    "from nilearn.image import new_img_like\n",
    "from nilearn.plotting import plot_stat_map\n",
    "import numpy as np\n",
    "import matplotlib.pyplot as plt\n",
    "%matplotlib inline\n",
    "\n",
    "class LazyMask(Nifti1Image):\n",
    "    ''' A wrapper for the Nifti1Image class that overloads the & and | operators\n",
    "    to do logical conjunction and disjunction on the image data. '''\n",
    "\n",
    "    def __and__(self, other):\n",
    "        if self.shape != other.shape:\n",
    "            raise ValueError(\"Mismatch in image dimensions: %s vs. %s\" % (self.shape, other.shape))\n",
    "        data = np.logical_and(self.get_data(), other.get_data())\n",
    "        return new_img_like(self, data, self.affine)\n",
    "\n",
    "    def __or__(self, other):\n",
    "        if self.shape != other.shape:\n",
    "            raise ValueError(\"Mismatch in image dimensions: %s vs. %s\" % (self.shape, other.shape))\n",
    "        data = np.logical_or(self.get_data(), other.get_data())\n",
    "        return new_img_like(self, data, self.affine)"
   ]
  },
  {
   "cell_type": "code",
   "execution_count": null,
   "metadata": {
    "collapsed": false,
    "slideshow": {
     "slide_type": "slide"
    }
   },
   "outputs": [],
   "source": [
    "img1 = LazyMask.load('/Users/tal/Dropbox/Neurosynth/Results/Analysis2_reward_neurosynth/k2/reward_neurosynth_cluster_labels_PCA=100_k=2.nii.gz')\n",
    "img2 = LazyMask.load('/Users/tal/Dropbox/Neurosynth/Results/Analysis2_social_neurosynth/k2/social_neurosynth_cluster_labels_PCA=100_k=2.nii.gz')\n",
    "result = img1 & img2"
   ]
  },
  {
   "cell_type": "code",
   "execution_count": null,
   "metadata": {
    "collapsed": false,
    "slideshow": {
     "slide_type": "fragment"
    }
   },
   "outputs": [],
   "source": [
    "fig, axes = plt.subplots(3, 1, figsize=(15, 6))\n",
    "p = plot_stat_map(img1, cut_coords=12, display_mode='z', title='Image 1', axes=axes[0], vmax=3)\n",
    "plot_stat_map(img2, cut_coords=p.cut_coords, display_mode='z', title='Image 2', axes=axes[1], vmax=3)\n",
    "p = plot_stat_map(result, cut_coords=p.cut_coords, display_mode='z', title='Result', axes=axes[2], vmax=3)"
   ]
  },
  {
   "cell_type": "markdown",
   "metadata": {
    "slideshow": {
     "slide_type": "slide"
    }
   },
   "source": [
    "# Decorators\n",
    "* In Python, decorators are functions that modify other functions\n",
    "* Added to functions by prefixing them with the @ operator"
   ]
  },
  {
   "cell_type": "markdown",
   "metadata": {
    "slideshow": {
     "slide_type": "slide"
    }
   },
   "source": [
    "#### Our function"
   ]
  },
  {
   "cell_type": "code",
   "execution_count": null,
   "metadata": {
    "collapsed": false,
    "slideshow": {
     "slide_type": "fragment"
    }
   },
   "outputs": [],
   "source": [
    "def repeated_apply(func, args, times=100000):\n",
    "    ''' A simple function wrapper that calls func with args \n",
    "    A whole bunch of times, then returns the first result.\n",
    "    Also times how long it took to run. '''\n",
    "    result = []\n",
    "    for i in range(times):\n",
    "        result.append(func(args))\n",
    "    return result[0]\n",
    "\n",
    "repeated_apply(sum, range(1000))"
   ]
  },
  {
   "cell_type": "markdown",
   "metadata": {
    "slideshow": {
     "slide_type": "slide"
    }
   },
   "source": [
    "#### A 'memoize' decorator that caches function results"
   ]
  },
  {
   "cell_type": "code",
   "execution_count": null,
   "metadata": {
    "collapsed": true,
    "slideshow": {
     "slide_type": "fragment"
    }
   },
   "outputs": [],
   "source": [
    "import time\n",
    "\n",
    "def memoize(f):\n",
    "    \"\"\" Memoization decorator for a function taking one or more arguments.\n",
    "    From: http://code.activestate.com/recipes/578231-probably-the-fastest-memoization-decorator-in-the-/\n",
    "    Also times how long it took to return from the memoized function.\n",
    "    \"\"\"\n",
    "    class memodict(dict):\n",
    "        def __getitem__(self, *key):\n",
    "            now = time.time()\n",
    "            value = dict.__getitem__(self, key)\n",
    "            elapsed = time.time() - now\n",
    "            print(\"Took %.2f seconds to run.\" % elapsed)\n",
    "            return value\n",
    "\n",
    "        def __missing__(self, key):\n",
    "            ret = self[key] = f(*key)\n",
    "            return ret\n",
    "\n",
    "    return memodict().__getitem__"
   ]
  },
  {
   "cell_type": "markdown",
   "metadata": {
    "slideshow": {
     "slide_type": "slide"
    }
   },
   "source": [
    "#### Our function, decorated"
   ]
  },
  {
   "cell_type": "code",
   "execution_count": null,
   "metadata": {
    "collapsed": false,
    "scrolled": true,
    "slideshow": {
     "slide_type": "fragment"
    }
   },
   "outputs": [],
   "source": [
    "@memoize\n",
    "def repeated_apply(func, args, times=100000):\n",
    "    ''' A simple function wrapper that calls func with args \n",
    "    A whole bunch of times, then returns the first result.\n",
    "    Also times how long it took to run. '''\n",
    "    result = []\n",
    "    for i in range(times):\n",
    "        result.append(func(args))\n",
    "    return result[0]"
   ]
  },
  {
   "cell_type": "code",
   "execution_count": null,
   "metadata": {
    "collapsed": false,
    "slideshow": {
     "slide_type": "fragment"
    }
   },
   "outputs": [],
   "source": [
    "repeated_apply(sum, range(1000))"
   ]
  },
  {
   "cell_type": "markdown",
   "metadata": {
    "slideshow": {
     "slide_type": "slide"
    }
   },
   "source": [
    "# What else?\n",
    "* What did I miss?\n",
    "* What's on your list of tips and tricks?"
   ]
  }
 ],
 "metadata": {
  "celltoolbar": "Slideshow",
  "kernelspec": {
   "display_name": "Python 3",
   "language": "python",
   "name": "python3"
  },
  "language_info": {
   "codemirror_mode": {
    "name": "ipython",
    "version": 3
   },
   "file_extension": ".py",
   "mimetype": "text/x-python",
   "name": "python",
   "nbconvert_exporter": "python",
   "pygments_lexer": "ipython3",
   "version": "3.5.1"
  }
 },
 "nbformat": 4,
 "nbformat_minor": 1
}
